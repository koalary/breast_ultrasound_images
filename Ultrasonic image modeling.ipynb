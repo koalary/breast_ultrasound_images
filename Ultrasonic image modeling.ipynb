{
 "cells": [
  {
   "cell_type": "code",
   "execution_count": null,
   "id": "b9bc5622",
   "metadata": {},
   "outputs": [],
   "source": [
    "import numpy as np\n",
    "from tensorflow.keras.models import Model, load_model\n",
    "from tensorflow.keras.layers import Flatten, Dense, Lambda\n",
    "\n",
    "from tensorflow.keras.applications import ResNet50\n",
    "from tensorflow.keras.applications import InceptionV3\n",
    "from tensorflow.keras.applications import Xception # TensorFlow ONLY\n",
    "from tensorflow.keras.applications import VGG16\n",
    "from tensorflow.keras.applications import VGG19\n",
    "import efficientnet.tfkeras as efn \n",
    "from tensorflow.keras.optimizers import Adam\n",
    "from tensorflow.keras.preprocessing import image\n",
    "from sklearn.metrics import classification_report, confusion_matrix\n",
    "from tensorflow.keras.models import Sequential\n",
    "#from tensorflow.keras.layers.core import Dense, Dropout, Flatten, Activation\n",
    "#from tensorflow.keras.layers.convolutional import Conv2D, MaxPooling2D\n",
    "from tensorflow.keras.preprocessing.image import load_img, img_to_array\n",
    "#from tensorflow.keras.utils import np_utils\n",
    "import os\n",
    "import numpy as np\n",
    "from tqdm import tqdm "
   ]
  },
  {
   "cell_type": "code",
   "execution_count": null,
   "id": "0ec37e73",
   "metadata": {},
   "outputs": [],
   "source": [
    "import os\n",
    "os.environ[\"CUDA_VISIBLE_DEVICES\"] = \"1\"\n",
    "train_image_path = './train/'\n",
    "test_image_path = './test/'\n",
    "ex_test_image_path = './extest/'\n"
   ]
  },
  {
   "cell_type": "code",
   "execution_count": null,
   "id": "2c06980a",
   "metadata": {},
   "outputs": [],
   "source": [
    "image_list = []\n",
    "import os\n",
    "def get_data(Dir):\n",
    "    X = []\n",
    "    y = []\n",
    "    for nextDir in os.listdir(Dir):\n",
    "        if not nextDir.startswith('.'):\n",
    "            if nextDir in ['0']:\n",
    "                label = 0\n",
    "            elif nextDir in ['1']:\n",
    "                label = 1\n",
    "\n",
    "                \n",
    "            temp = Dir + nextDir\n",
    "                \n",
    "            for file in tqdm(os.listdir(temp)):\n",
    "                image = load_img(temp + '/' + file,target_size=(256,256))\n",
    "                image = img_to_array(image)\n",
    "                image /= 255\n",
    "                X.append(image)\n",
    "                y.append(label)\n",
    "                image_list.append(file)   \n",
    "    X = np.asarray(X)\n",
    "    y = np.asarray(y)\n",
    "    return X,y"
   ]
  },
  {
   "cell_type": "code",
   "execution_count": null,
   "id": "e253009b",
   "metadata": {},
   "outputs": [],
   "source": [
    "x_train,y_train = get_data(train_image_path)\n",
    "x_test,y_test = get_data(test_image_path)\n",
    "ex_x_test,ex_y_test = get_data(ex_test_image_path)"
   ]
  },
  {
   "cell_type": "code",
   "execution_count": null,
   "id": "1d911c9e",
   "metadata": {},
   "outputs": [],
   "source": [
    "from tensorflow.keras.utils import to_categorical\n",
    "Y_train = to_categorical(y_train, 2)\n",
    "Y_test = to_categorical(y_test, 2)\n",
    "ex_Y_test = to_categorical(ex_y_test, 2)"
   ]
  },
  {
   "cell_type": "code",
   "execution_count": null,
   "id": "960d8155",
   "metadata": {},
   "outputs": [],
   "source": [
    "import efficientnet.tfkeras as efn \n",
    "efnmodel = efn.EfficientNetB5(include_top=True, weights=None, input_tensor=None, input_shape=(256,256,3))  # or weights='noisy-student'\n",
    "efnmodel.load_weights('./weights/efficientnet-b5_weights_tf_dim_ordering_tf_kernels.h5')\n",
    "\n",
    "x = efnmodel.layers[-2].output\n",
    "output_layer = Dense(2, activation='sigmoid', name='fc')(x)\n",
    "\n",
    "# combine the original model with the new output layer\n",
    "efnmodel2 = Model(inputs=efnmodel.input, outputs=output_layer)\n",
    "\n",
    "# compile the new model\n",
    "efnmodel2.compile(optimizer=Adam(lr=0.00008),\n",
    "                loss='binary_crossentropy', metrics=['accuracy'])"
   ]
  },
  {
   "cell_type": "code",
   "execution_count": null,
   "id": "90efbb80",
   "metadata": {},
   "outputs": [],
   "source": [
    "from tensorflow.keras.callbacks import ModelCheckpoint\n",
    "filepath = 'efn2.h5'\n",
    "checkpoint = ModelCheckpoint(filepath, monitor='val_accuracy', verbose=1, save_best_only=True, mode='max')"
   ]
  },
  {
   "cell_type": "code",
   "execution_count": null,
   "id": "419ec408",
   "metadata": {},
   "outputs": [],
   "source": [
    "hist = efnmodel2.fit(x_train, Y_train, \n",
    "                 batch_size=32, \n",
    "                 epochs=100, \n",
    "                 verbose=1,\n",
    "                 callbacks=[checkpoint],\n",
    "                 validation_data = (x_test , Y_test),\n",
    "                 shuffle =True)"
   ]
  },
  {
   "cell_type": "code",
   "execution_count": null,
   "id": "51f39b57",
   "metadata": {},
   "outputs": [],
   "source": [
    "import matplotlib.pyplot as plt\n",
    "plt.rcParams['savefig.dpi'] = 500\n",
    "plt.rcParams['figure.dpi'] = 500\n",
    "\n",
    "plt.plot(hist.history['loss'])\n",
    "plt.plot(hist.history['val_loss'])\n",
    "plt.title('')\n",
    "plt.ylabel('Loss')\n",
    "plt.ylim([0.0, 10.01])\n",
    "plt.xlabel('Epoch')\n",
    "plt.legend(['Train', 'Test'], loc='best')\n",
    "plt.show()\n",
    "# summarize history for loss\n",
    "plt.plot(hist.history['accuracy'])\n",
    "plt.plot(hist.history['val_accuracy'])\n",
    "plt.title('')\n",
    "plt.ylabel('Accuracy')\n",
    "plt.ylim([0.0, 1.01])\n",
    "plt.xlabel('Epoch')\n",
    "plt.legend(['Train', 'Test'], loc='best')\n",
    "plt.show()"
   ]
  },
  {
   "cell_type": "code",
   "execution_count": null,
   "id": "62f9488f",
   "metadata": {},
   "outputs": [],
   "source": [
    "import os\n",
    "os.environ[\"CUDA_VISIBLE_DEVICES\"] = \"1\"\n",
    "import efficientnet.tfkeras as efn \n",
    "from tensorflow.keras.models import Model, load_model\n",
    "model_a = load_model('efn2.h5')\n",
    "\n",
    "\n",
    "\n",
    "\n",
    "from sklearn.metrics import confusion_matrix\n",
    "import itertools\n",
    "import matplotlib.pyplot as plt\n",
    "\n",
    "def plot_confusion_matrix(cm, classes, normalize=False, title='', cmap=plt.cm.Blues):\n",
    "    \"\"\"\n",
    "    This function prints and plots the confusion matrix.\n",
    "    Normalization can be applied by setting `normalize=True`.\n",
    "    \"\"\"\n",
    "    \n",
    "    plt.rcParams['savefig.dpi'] = 300\n",
    "    plt.rcParams['figure.dpi'] = 300\n",
    "    plt.imshow(cm, interpolation='nearest', cmap=cmap)\n",
    "    plt.title(title)\n",
    "    plt.colorbar()\n",
    "    tick_marks = np.arange(len(classes))\n",
    "    plt.xticks(tick_marks, classes, rotation=0)\n",
    "    plt.yticks(tick_marks, classes)\n",
    "\n",
    "    if normalize:\n",
    "        cm = cm.astype('float') / cm.sum(axis=1)[:, np.newaxis]\n",
    "\n",
    "    thresh = cm.max() / 2.\n",
    "    for i, j in itertools.product(range(cm.shape[0]), range(cm.shape[1])):\n",
    "        plt.text(j, i, cm[i, j],\n",
    "                 horizontalalignment=\"center\",\n",
    "                 color=\"white\" if cm[i, j] > thresh else \"black\")\n",
    "\n",
    "    plt.tight_layout()\n",
    "    plt.ylabel('True label')\n",
    "    plt.xlabel('Predicted label')"
   ]
  },
  {
   "cell_type": "code",
   "execution_count": null,
   "id": "66e48f34",
   "metadata": {},
   "outputs": [],
   "source": [
    "Y_pred = model_a.predict(x_test)\n",
    "# Convert predictions classes from one hot vectors to labels: [0 0 1 0 0 ...] --> 2\n",
    "y_pred = np.argmax(Y_pred, axis=1)\n",
    "# Convert validation observations from one hot vectors to labels\n",
    "#y_true = np.argmax(Y_valid, axis=1)\n",
    "y_true = y_test\n",
    "# compute the confusion matrix\n",
    "confusion_mtx = confusion_matrix(y_true, y_pred)\n",
    "# plot the confusion matrix\n",
    "plot_confusion_matrix(confusion_mtx, classes=['Begign','Invasive breast cancer'])"
   ]
  },
  {
   "cell_type": "code",
   "execution_count": null,
   "id": "53c7a3b2",
   "metadata": {},
   "outputs": [],
   "source": [
    "confusion_mtx = confusion_matrix(y_true, y_pred)\n",
    "# plot the confusion matrix\n",
    "\n",
    "con_mat_norm = confusion_mtx.astype('float') / confusion_mtx.sum(axis=1)[:, np.newaxis]     # 归一化\n",
    "con_mat_norm = np.around(con_mat_norm, decimals=2)\n",
    "\n",
    "plot_confusion_matrix(con_mat_norm, ['Benign','Invasive breast cancer'])"
   ]
  },
  {
   "cell_type": "code",
   "execution_count": null,
   "id": "35a3585c",
   "metadata": {},
   "outputs": [],
   "source": [
    "from sklearn.metrics import classification_report, confusion_matrix\n",
    "\n",
    "print('Classification Report')\n",
    "print(classification_report(y_true, y_pred))\n",
    "\n",
    "    \n",
    "from sklearn.metrics import roc_curve, auc\n",
    "# Compute ROC curve\n",
    "fpr, tpr, thresholds = roc_curve(Y_test.ravel(), Y_pred.ravel())\n",
    "\n",
    "# Compute ROC area\n",
    "roc_auc = auc(fpr, tpr)\n",
    "print('ROC area is {0}'.format(roc_auc))"
   ]
  },
  {
   "cell_type": "code",
   "execution_count": null,
   "id": "3ea822ff",
   "metadata": {},
   "outputs": [],
   "source": []
  },
  {
   "cell_type": "code",
   "execution_count": null,
   "id": "09cfe1c6",
   "metadata": {},
   "outputs": [],
   "source": []
  },
  {
   "cell_type": "code",
   "execution_count": null,
   "id": "8c7b97af",
   "metadata": {},
   "outputs": [],
   "source": []
  }
 ],
 "metadata": {
  "kernelspec": {
   "display_name": "Python 3",
   "language": "python",
   "name": "python3"
  },
  "language_info": {
   "codemirror_mode": {
    "name": "ipython",
    "version": 3
   },
   "file_extension": ".py",
   "mimetype": "text/x-python",
   "name": "python",
   "nbconvert_exporter": "python",
   "pygments_lexer": "ipython3",
   "version": "3.8.8"
  }
 },
 "nbformat": 4,
 "nbformat_minor": 5
}
